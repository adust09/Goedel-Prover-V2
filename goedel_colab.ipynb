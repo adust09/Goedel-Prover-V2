{
  "cells": [
    {
      "cell_type": "markdown",
      "metadata": {},
      "source": [
        "# Goedel-Prover-V2 Google Colab Notebook\n",
        "\n",
        "This notebook provides optimized execution for Goedel-Prover-V2 on Google Colab with limited GPU memory."
      ]
    },
    {
      "cell_type": "markdown",
      "metadata": {},
      "source": [
        "## Setup Environment"
      ]
    },
    {
      "cell_type": "code",
      "execution_count": null,
      "metadata": {},
      "outputs": [],
      "source": [
        "# Clone repository\n",
        "!git clone https://github.com/Goedel-LM/Goedel-Prover-V2.git\n",
        "%cd Goedel-Prover-V2"
      ]
    },
    {
      "cell_type": "code",
      "execution_count": null,
      "metadata": {},
      "outputs": [],
      "source": [
        "# Install dependencies\n",
        "!pip install -q torch transformers accelerate bitsandbytes\n",
        "!pip install -q vllm jsonlines tqdm pandas"
      ]
    },
    {
      "cell_type": "code",
      "execution_count": null,
      "metadata": {},
      "outputs": [],
      "source": [
        "# Check GPU availability\n",
        "import torch\n",
        "\n",
        "if torch.cuda.is_available():\n",
        "    gpu_name = torch.cuda.get_device_name(0)\n",
        "    gpu_memory = torch.cuda.get_device_properties(0).total_memory / 1024**3\n",
        "    print(f\"GPU: {gpu_name}\")\n",
        "    print(f\"Memory: {gpu_memory:.1f} GB\")\n",
        "else:\n",
        "    print(\"No GPU available, will use CPU\")"
      ]
    },
    {
      "cell_type": "markdown",
      "metadata": {},
      "source": [
        "## Option 1: CPU Execution (Slow but Reliable)"
      ]
    },
    {
      "cell_type": "code",
      "execution_count": null,
      "metadata": {},
      "outputs": [],
      "source": [
        "# Create CPU inference script\n",
        "cpu_inference_code = '''#!/usr/bin/env python3\n",
        "import torch\n",
        "from transformers import AutoTokenizer, AutoModelForCausalLM\n",
        "import json\n",
        "from tqdm import tqdm\n",
        "import os\n",
        "\n",
        "# Configuration\n",
        "MODEL_PATH = \"Goedel-LM/Goedel-Prover-V2-8B\"\n",
        "DATA_PATH = \"dataset/test.jsonl\"\n",
        "OUTPUT_DIR = \"results/cpu_test\"\n",
        "N_SAMPLES = 2\n",
        "MAX_LENGTH = 2048\n",
        "\n",
        "os.makedirs(OUTPUT_DIR, exist_ok=True)\n",
        "\n",
        "print(\"Loading model on CPU...\")\n",
        "tokenizer = AutoTokenizer.from_pretrained(MODEL_PATH, trust_remote_code=True)\n",
        "model = AutoModelForCausalLM.from_pretrained(\n",
        "    MODEL_PATH,\n",
        "    torch_dtype=torch.float32,\n",
        "    trust_remote_code=True,\n",
        "    device_map=\"cpu\"\n",
        ")\n",
        "model.eval()\n",
        "\n",
        "# Load problems\n",
        "problems = []\n",
        "with open(DATA_PATH, \"r\") as f:\n",
        "    for line in f:\n",
        "        problems.append(json.loads(line))\n",
        "\n",
        "results = []\n",
        "for problem in tqdm(problems[:5]):  # Process first 5 problems\n",
        "    lean_code = problem.get(\"lean4_code\", \"\")\n",
        "    if not lean_code:\n",
        "        continue\n",
        "    \n",
        "    prompt = f\"\"\"Complete the following Lean 4 proof:\\n\\n{lean_code}\\n\\n### Proof:\"\"\"\n",
        "    \n",
        "    for i in range(N_SAMPLES):\n",
        "        inputs = tokenizer(prompt, return_tensors=\"pt\", truncation=True, max_length=MAX_LENGTH)\n",
        "        \n",
        "        with torch.no_grad():\n",
        "            outputs = model.generate(\n",
        "                **inputs,\n",
        "                max_new_tokens=MAX_LENGTH,\n",
        "                temperature=0.7,\n",
        "                do_sample=True,\n",
        "                pad_token_id=tokenizer.pad_token_id\n",
        "            )\n",
        "        \n",
        "        generated = tokenizer.decode(outputs[0], skip_special_tokens=True)\n",
        "        results.append({\n",
        "            \"problem_id\": f\"{problem.get('name')}_g{i}\",\n",
        "            \"generated_proof\": generated[len(prompt):]\n",
        "        })\n",
        "\n",
        "# Save results\n",
        "with open(f\"{OUTPUT_DIR}/results.json\", \"w\") as f:\n",
        "    json.dump(results, f, indent=2)\n",
        "\n",
        "print(f\"Generated {len(results)} proofs\")\n",
        "'''\n",
        "\n",
        "with open('cpu_inference.py', 'w') as f:\n",
        "    f.write(cpu_inference_code)\n",
        "\n",
        "print(\"CPU inference script created\")"
      ]
    },
    {
      "cell_type": "code",
      "execution_count": null,
      "metadata": {},
      "outputs": [],
      "source": [
        "# Run CPU inference\n",
        "!python cpu_inference.py"
      ]
    },
    {
      "cell_type": "markdown",
      "metadata": {},
      "source": [
        "## Option 2: Quantized GPU Execution (Recommended)"
      ]
    },
    {
      "cell_type": "code",
      "execution_count": null,
      "metadata": {},
      "outputs": [],
      "source": [
        "# Create quantized inference script\n",
        "with open('colab_quantized_run.py', 'w') as f:\n",
        "    f.write(open('colab_quantized_run.py').read())\n",
        "\n",
        "print(\"Quantized inference script ready\")"
      ]
    },
    {
      "cell_type": "code",
      "execution_count": null,
      "metadata": {},
      "outputs": [],
      "source": [
        "# Run quantized inference\n",
        "!python colab_quantized_run.py"
      ]
    },
    {
      "cell_type": "markdown",
      "metadata": {},
      "source": [
        "## Option 3: Quick Test with 4-bit Quantization"
      ]
    },
    {
      "cell_type": "code",
      "execution_count": null,
      "metadata": {},
      "outputs": [],
      "source": [
        "import torch\n",
        "from transformers import AutoTokenizer, AutoModelForCausalLM, BitsAndBytesConfig\n",
        "import json\n",
        "\n",
        "# 4-bit quantization config\n",
        "bnb_config = BitsAndBytesConfig(\n",
        "    load_in_4bit=True,\n",
        "    bnb_4bit_use_double_quant=True,\n",
        "    bnb_4bit_quant_type=\"nf4\",\n",
        "    bnb_4bit_compute_dtype=torch.bfloat16\n",
        ")\n",
        "\n",
        "# Load model with 4-bit quantization\n",
        "print(\"Loading 8B model with 4-bit quantization...\")\n",
        "model = AutoModelForCausalLM.from_pretrained(\n",
        "    \"Goedel-LM/Goedel-Prover-V2-8B\",\n",
        "    quantization_config=bnb_config,\n",
        "    device_map=\"auto\",\n",
        "    trust_remote_code=True\n",
        ")\n",
        "\n",
        "tokenizer = AutoTokenizer.from_pretrained(\n",
        "    \"Goedel-LM/Goedel-Prover-V2-8B\",\n",
        "    trust_remote_code=True\n",
        ")\n",
        "\n",
        "print(\"Model loaded successfully!\")"
      ]
    },
    {
      "cell_type": "code",
      "execution_count": null,
      "metadata": {},
      "outputs": [],
      "source": [
        "# Test with a simple problem\n",
        "test_problem = \"\"\"theorem test_theorem (n : Nat) : n + 0 = n := by\"\"\"\n",
        "\n",
        "prompt = f\"Complete the following Lean 4 proof:\\n\\n{test_problem}\\n\"\n",
        "inputs = tokenizer(prompt, return_tensors=\"pt\").to(\"cuda\")\n",
        "\n",
        "with torch.no_grad():\n",
        "    outputs = model.generate(\n",
        "        **inputs,\n",
        "        max_new_tokens=200,\n",
        "        temperature=0.7,\n",
        "        do_sample=True\n",
        "    )\n",
        "\n",
        "generated = tokenizer.decode(outputs[0], skip_special_tokens=True)\n",
        "print(\"Generated proof:\")\n",
        "print(generated[len(prompt):])"
      ]
    },
    {
      "cell_type": "markdown",
      "metadata": {},
      "source": [
        "## Run Compilation and Summary"
      ]
    },
    {
      "cell_type": "code",
      "execution_count": null,
      "metadata": {},
      "outputs": [],
      "source": [
        "# Compile generated proofs\n",
        "!python src/compile.py \\\n",
        "    --input_path results/cpu_test/to_inference_codes.json \\\n",
        "    --output_path results/cpu_test/compilation.json \\\n",
        "    --cpu 2"
      ]
    },
    {
      "cell_type": "code",
      "execution_count": null,
      "metadata": {},
      "outputs": [],
      "source": [
        "# Generate summary\n",
        "!python src/summarize.py \\\n",
        "    --input_path results/cpu_test/compilation.json \\\n",
        "    --output_dir results/cpu_test/summary"
      ]
    },
    {
      "cell_type": "markdown",
      "metadata": {},
      "source": [
        "## View Results"
      ]
    },
    {
      "cell_type": "code",
      "execution_count": null,
      "metadata": {},
      "outputs": [],
      "source": [
        "# Display summary\n",
        "import json\n",
        "import pandas as pd\n",
        "\n",
        "try:\n",
        "    with open('results/cpu_test/summary/summary.json', 'r') as f:\n",
        "        summary = json.load(f)\n",
        "    print(\"Summary:\")\n",
        "    print(json.dumps(summary, indent=2))\n",
        "except FileNotFoundError:\n",
        "    print(\"Summary file not found. Run compilation and summarization first.\")"
      ]
    }
  ],
  "metadata": {
    "kernelspec": {
      "display_name": "Python 3",
      "language": "python",
      "name": "python3"
    },
    "language_info": {
      "codemirror_mode": {
        "name": "ipython",
        "version": 3
      },
      "file_extension": ".py",
      "mimetype": "text/x-python",
      "name": "python",
      "nbconvert_exporter": "python",
      "pygments_lexer": "ipython3",
      "version": "3.10.0"
    }
  },
  "nbformat": 4,
  "nbformat_minor": 4
}